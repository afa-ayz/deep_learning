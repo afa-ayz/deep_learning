{
 "cells": [
  {
   "cell_type": "markdown",
   "metadata": {},
   "source": [
    "# COMP5329 - Deep Learning \n",
    "\n",
    "## Tutorial 1 - Python and Tensorflow"
   ]
  },
  {
   "cell_type": "markdown",
   "metadata": {},
   "source": [
    "**Semester 1, 2018**\n",
    "\n",
    "**Objectives:**\n",
    "\n",
    "* Reviewing Python syntax\n",
    "* Knowing other support libs such as numpy\n",
    "* First step to Tensorflow\n",
    "\n",
    "\n",
    "**Instructions:**\n",
    "\n",
    "* Exercises to be completed on Python2.7 or Python3.6\n",
    "* Using virtualenv to import environment\n",
    "* Matrix multiplying by raw python, numpy and tensorflow\n",
    "\n",
    "Lecturers: Dalu Guo, Jiayan Qiu, Chaoyue Wang, Xinyuan Chen, Zheyu Feng and Sanjeev Sharma"
   ]
  },
  {
   "cell_type": "markdown",
   "metadata": {},
   "source": [
    "# How To Install Tensorflow Environment"
   ]
  },
  {
   "cell_type": "markdown",
   "metadata": {},
   "source": [
    "** Official website **\n",
    "* https://www.tensorflow.org\n",
    "\n",
    "** Create sandbox by Virtualenv or Anaconda for safety.**\n",
    "\n",
    "* virtualenv -p python3.4 tensorflow-cpu\n",
    "\n",
    "** Source your own environment. **\n",
    "* source tensorflow-cpu/bin/activate\n",
    "\n",
    "** Install the tensorflow package. **\n",
    "* easy_install -U pip\n",
    "* pip3 install --upgrade tensorflow  #For cpu\n",
    "* pip3 install --upgrade tensorflow-gpu #For gpu, gpu cards, CUDA, CUDNN must be installed.\n",
    "\n",
    "** Install and start ipython notebook\n",
    "* pip3 install ipython\n",
    "* pip3 install ipython[notebook]\n",
    "\n",
    "* ipython notebook\n",
    "\n",
    "** Deactive environment **\n",
    "* deactivate"
   ]
  },
  {
   "cell_type": "markdown",
   "metadata": {},
   "source": [
    "# Reviewing Python Syntax"
   ]
  },
  {
   "cell_type": "markdown",
   "metadata": {},
   "source": [
    "## Defining Python List"
   ]
  },
  {
   "cell_type": "code",
   "execution_count": null,
   "metadata": {
    "collapsed": true
   },
   "outputs": [],
   "source": [
    "x_list = [1, 2, 3, 4, 5, 6] #define a python list\n",
    "\n",
    "print(x_list)\n",
    "print(x_list[0]) #slicing\n",
    "print(x_list[1:-2]) #slicing \n",
    "print(x_list[0::2]) #odd element\n",
    "\n",
    "\n",
    "x_dic = {} #define python dictionary\n",
    "x_dic['a'] = 1\n",
    "x_dic['b'] = 2\n",
    "print (x_dic)\n",
    "print (x_dic['a'])\n",
    "\n",
    "x_set = set() #define python set\n",
    "x_set.add(1)\n",
    "x_set.add(2)\n",
    "print (x_set)\n",
    "x_set.add(1)\n",
    "print (x_set)\n",
    " "
   ]
  },
  {
   "cell_type": "markdown",
   "metadata": {},
   "source": [
    "## Defining Python Matrix"
   ]
  },
  {
   "cell_type": "code",
   "execution_count": null,
   "metadata": {
    "collapsed": true
   },
   "outputs": [],
   "source": [
    "import random\n",
    "\n",
    "#define a matrix with dimension M * N\n",
    "def generate_matrix(m, n):\n",
    "    ls = []\n",
    "    for i in range(m): #generate outer dimension\n",
    "        sub_list = []\n",
    "        for j in range(n): #generate inner dimension\n",
    "            sub_list.append(random.randint(10, 20)) #random int in [10 to 20]\n",
    "        ls.append(sub_list)\n",
    "    return ls\n",
    "\n",
    "generate_matrix(5, 5)"
   ]
  },
  {
   "cell_type": "markdown",
   "metadata": {},
   "source": [
    "## Matrix Multiplication "
   ]
  },
  {
   "cell_type": "code",
   "execution_count": null,
   "metadata": {
    "collapsed": true
   },
   "outputs": [],
   "source": [
    "# matrix [i,j] * [j,k]\n",
    "\n",
    "def matrix_multiply(m1, m2):\n",
    "    if len(m1[0]) != len(m2): #dimension illegal check\n",
    "        return None\n",
    "    result = []\n",
    "    for i in range(len(m1)):\n",
    "        sub = []\n",
    "        for j in range(len(m2[0])):\n",
    "            v = 0\n",
    "            for k in range(len(m2)):\n",
    "                v += m1[i][k] * m2[k][j]\n",
    "            sub.append(v)\n",
    "        result.append(sub)\n",
    "    return result\n",
    "\n",
    "matrix1 = generate_matrix(3, 4)\n",
    "matrix2 = generate_matrix(4, 5)\n",
    "matrix_multiply(matrix1, matrix2)"
   ]
  },
  {
   "cell_type": "markdown",
   "metadata": {},
   "source": [
    "# Numpy Operations"
   ]
  },
  {
   "cell_type": "markdown",
   "metadata": {},
   "source": [
    "## Numpy Array"
   ]
  },
  {
   "cell_type": "code",
   "execution_count": null,
   "metadata": {
    "collapsed": true
   },
   "outputs": [],
   "source": [
    "import numpy as np\n",
    "\n",
    "#array(m * n)\n",
    "def generate_numpy_matrix(m, n):\n",
    "    a = np.random.randint(10, size = m * n, dtype = np.int32) + 10 \n",
    "    a = a.reshape(m, n) # how to do this by raw python ?\n",
    "    return a\n",
    "\n",
    "matrix = generate_numpy_matrix(10, 5)\n",
    "print (matrix)\n",
    "\n",
    "print (matrix[0]) # first row\n",
    "\n",
    "print (matrix[:, 0]) # first column\n",
    "\n",
    "print (matrix[0::2]) # odd rows"
   ]
  },
  {
   "cell_type": "markdown",
   "metadata": {},
   "source": [
    "## Numpy Matrix Multiplication"
   ]
  },
  {
   "cell_type": "code",
   "execution_count": null,
   "metadata": {
    "collapsed": true
   },
   "outputs": [],
   "source": [
    "matrix1 = generate_numpy_matrix(3, 4)\n",
    "matrix2 = generate_numpy_matrix(4, 5)\n",
    "print (matrix1)\n",
    "print (matrix2)\n",
    "result = np.matmul(matrix1, matrix2)\n",
    "print (result)\n",
    "\n",
    "result = matrix1 @ matrix2 # for python3.5 or higher version\n",
    "print (result)\n",
    "\n",
    "result = matrix1 * 3 + 2 # how can we do the same operation by using raw python ?\n",
    "print (result)\n",
    "\n",
    "matrix3 = generate_numpy_matrix(3, 4)\n",
    "result = matrix1 * matrix3 # dot multiplication\n",
    "print (matrix3)\n",
    "print (result)"
   ]
  },
  {
   "cell_type": "markdown",
   "metadata": {},
   "source": [
    "## Other  Numpy Operation"
   ]
  },
  {
   "cell_type": "code",
   "execution_count": null,
   "metadata": {
    "collapsed": true
   },
   "outputs": [],
   "source": [
    "matrix1 = generate_numpy_matrix(3, 4)\n",
    "matrix2 = generate_numpy_matrix(3, 4)\n",
    "print (np.transpose(matrix1)) # matrix transpose\n",
    "print (matrix1.T) #for python3.5 or higher version\n",
    "\n",
    "print (np.sum(matrix1)) # sum \n",
    "\n",
    "print (np.sum(matrix1, axis = 1)) # column sum\n",
    "\n",
    "print (np.vstack([matrix1, matrix2])) # combine two matrix in row\n",
    "\n",
    "print (np.hstack([matrix1, matrix2])) # combine tow matrix in column\n"
   ]
  },
  {
   "cell_type": "markdown",
   "metadata": {},
   "source": [
    "# First Step To Tensorflow"
   ]
  },
  {
   "cell_type": "markdown",
   "metadata": {},
   "source": [
    "## Operator In Tensorflow"
   ]
  },
  {
   "cell_type": "code",
   "execution_count": null,
   "metadata": {
    "collapsed": true
   },
   "outputs": [],
   "source": [
    "import tensorflow as tf\n",
    "#create constant symbol in tensorflow\n",
    "a = tf.constant(generate_numpy_matrix(3, 4))\n",
    "b = tf.constant(generate_numpy_matrix(3, 4))\n",
    "print (a) # a is just a symbol"
   ]
  },
  {
   "cell_type": "code",
   "execution_count": null,
   "metadata": {
    "collapsed": true
   },
   "outputs": [],
   "source": [
    "#print its value\n",
    "sess = tf.Session()\n",
    "results = sess.run([a])\n",
    "print (results)"
   ]
  },
  {
   "cell_type": "code",
   "execution_count": null,
   "metadata": {
    "collapsed": true
   },
   "outputs": [],
   "source": [
    "add = a + b\n",
    "multiply = a * 4 + 5\n",
    "dot = a * b #np.dot\n",
    "b_trans = tf.transpose(b, [1, 0])\n",
    "matmul = tf.matmul(a, b_trans)\n",
    "vstack = tf.concat([a, b], axis = 0)\n",
    "hstack = tf.concat([a, b], axis = 1)\n",
    "sess = tf.Session()\n",
    "results = sess.run([add, multiply, dot, matmul, vstack, hstack])\n",
    "\n",
    "for i in range(len(results)):\n",
    "    print (results[i])"
   ]
  },
  {
   "cell_type": "markdown",
   "metadata": {},
   "source": [
    "## Variable In Tensorflow"
   ]
  },
  {
   "cell_type": "code",
   "execution_count": null,
   "metadata": {
    "collapsed": true
   },
   "outputs": [],
   "source": [
    "# always create new variable\n",
    "v1 = tf.Variable(generate_numpy_matrix(3, 4), dtype = tf.int32, name = \"v1\") \n",
    "print (v1)\n",
    "\n",
    "#check whether to create or restore\n",
    "v2 = tf.get_variable(\"v2\", dtype = tf.int32, initializer=tf.constant(generate_numpy_matrix(3, 4)))\n",
    "print (v2)"
   ]
  },
  {
   "cell_type": "code",
   "execution_count": null,
   "metadata": {
    "collapsed": true
   },
   "outputs": [],
   "source": [
    "import tensorflow as tf\n",
    "\n",
    "#get_variable can reuse weight\n",
    "with tf.variable_scope(\"scope1\"):\n",
    "    w1 = tf.get_variable(\"w1\", shape=[])\n",
    "    w2 = tf.Variable(0.0, name=\"w2\")\n",
    "with tf.variable_scope(\"scope1\", reuse=True):\n",
    "    w1_p = tf.get_variable(\"w1\", shape=[])\n",
    "    w2_p = tf.Variable(0.0, name=\"w2\")\n",
    "\n",
    "print(w1 is w1_p)\n",
    "print(w2 is w2_p)"
   ]
  },
  {
   "cell_type": "code",
   "execution_count": null,
   "metadata": {
    "collapsed": true
   },
   "outputs": [],
   "source": [
    "import tensorflow as tf\n",
    "\n",
    "matrix1 = tf.get_variable(\"matrix1\", dtype = tf.float32, initializer=tf.truncated_normal_initializer(), shape = (3, 4))\n",
    "matrix2 = tf.get_variable(\"matrix2\", dtype = tf.float32, initializer=tf.truncated_normal_initializer(), shape = (4, 3))\n",
    "result = tf.matmul(matrix1, matrix2)\n",
    "sess = tf.Session()\n",
    "sess.run(tf.global_variables_initializer()) # first init variables or exception happens\n",
    "print(sess.run(result))\n"
   ]
  },
  {
   "cell_type": "markdown",
   "metadata": {},
   "source": [
    "# Placeholder In Tensorflow"
   ]
  },
  {
   "cell_type": "code",
   "execution_count": null,
   "metadata": {
    "collapsed": true
   },
   "outputs": [],
   "source": [
    "#After defining the graph and operations, how can we feed the graph with data for training?\n",
    "import tensorflow as tf\n",
    "\n",
    "matrix1 = tf.placeholder(tf.float32, [4, 4])\n",
    "matrix2 = tf.get_variable(\"matrix3\", dtype = tf.float32, initializer=tf.truncated_normal_initializer(), shape = (4, 3))\n",
    "result = tf.matmul(matrix1, matrix2)\n",
    "sess = tf.Session()\n",
    "sess.run(tf.global_variables_initializer()) # first init variables or exception happens\n",
    "\n",
    "#generate training data\n",
    "m1 = generate_numpy_matrix(4, 4)\n",
    "print (sess.run(result, {matrix1:m1}))\n",
    "    "
   ]
  },
  {
   "cell_type": "code",
   "execution_count": null,
   "metadata": {
    "collapsed": true
   },
   "outputs": [],
   "source": [
    "# how to fill the placeholder with different batch size,\n",
    "import tensorflow as tf\n",
    "\n",
    "matrix1 = tf.placeholder(tf.float32, [None, 4])\n",
    "matrix3 = tf.get_variable(\"matrix4\", dtype = tf.float32, initializer=tf.truncated_normal_initializer(), shape = (4, 3))\n",
    "result = tf.matmul(matrix1, matrix3)\n",
    "sess = tf.Session()\n",
    "sess.run(tf.global_variables_initializer()) # first init variables or exception happens\n",
    "\n",
    "#generate training data\n",
    "for i in range(3, 5):\n",
    "    m1 = generate_numpy_matrix(i, 4)\n",
    "    print (sess.run(result, {matrix1:m1}))\n"
   ]
  },
  {
   "cell_type": "markdown",
   "metadata": {},
   "source": [
    "## Variable Scope Management"
   ]
  },
  {
   "cell_type": "code",
   "execution_count": null,
   "metadata": {
    "collapsed": true
   },
   "outputs": [],
   "source": [
    "#same structure, but different scopre name for code reuse\n",
    "with tf.variable_scope(\"scope1\"):\n",
    "    w1 = tf.get_variable(\"weight1\", shape=[])\n",
    "    print (w1)\n",
    "with tf.variable_scope(\"scope2\"):\n",
    "    w1 = tf.get_variable(\"weight1\", shape=[])\n",
    "    print (w1)\n"
   ]
  },
  {
   "cell_type": "code",
   "execution_count": null,
   "metadata": {
    "collapsed": true
   },
   "outputs": [],
   "source": [
    "def code_reuse(name):\n",
    "    with tf.variable_scope(name):\n",
    "       w1 = tf.get_variable(\"weight1\", shape=[])\n",
    "       print (w1)\n",
    "code_reuse(\"scope3\")\n",
    "code_reuse(\"scope4\")    "
   ]
  },
  {
   "cell_type": "markdown",
   "metadata": {},
   "source": [
    "# Exercises "
   ]
  },
  {
   "cell_type": "markdown",
   "metadata": {},
   "source": [
    "implementing y = $abs((w_1x + b_1)\\bullet(w_2x + b_2))$\n",
    "* where x is the input given by numpy, which shape is [None, 256].\n",
    "* w, b are the random variables generated by tensorflow\n",
    "* y is the output, whose dimension is [None, 10]\n"
   ]
  },
  {
   "cell_type": "code",
   "execution_count": null,
   "metadata": {
    "collapsed": true
   },
   "outputs": [],
   "source": []
  }
 ],
 "metadata": {
  "kernelspec": {
   "display_name": "Python 3",
   "language": "python",
   "name": "python3"
  },
  "language_info": {
   "codemirror_mode": {
    "name": "ipython",
    "version": 3
   },
   "file_extension": ".py",
   "mimetype": "text/x-python",
   "name": "python",
   "nbconvert_exporter": "python",
   "pygments_lexer": "ipython3",
   "version": "3.5.2"
  }
 },
 "nbformat": 4,
 "nbformat_minor": 1
}
